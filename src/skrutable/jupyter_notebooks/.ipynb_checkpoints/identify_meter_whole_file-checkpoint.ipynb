{
 "cells": [
  {
   "cell_type": "markdown",
   "metadata": {},
   "source": [
    "# Example Whole-File Analysis"
   ]
  },
  {
   "cell_type": "markdown",
   "metadata": {},
   "source": [
    "The following imports the text of the Rāmāyaṇa, which has been prepared ahead of time to have one verse per line (with verses consisting of three and four halves broken into two), for a total of 19,354 verses."
   ]
  },
  {
   "cell_type": "code",
   "execution_count": 1,
   "metadata": {},
   "outputs": [],
   "source": [
    "from tqdm import tqdm # for progress bar, pip install if desired\n",
    "from datetime import datetime, date"
   ]
  },
  {
   "cell_type": "code",
   "execution_count": 2,
   "metadata": {},
   "outputs": [],
   "source": [
    "input_fn = 'R_cleaned.txt'\n",
    "output_fn = input_fn[:input_fn.find('.')] + '_results' + input_fn[input_fn.find('.'):]"
   ]
  },
  {
   "cell_type": "code",
   "execution_count": 3,
   "metadata": {},
   "outputs": [
    {
     "name": "stdout",
     "output_type": "stream",
     "text": [
      "19354\n"
     ]
    }
   ],
   "source": [
    "with open('%s' % input_fn, 'r') as input_f:\n",
    "    input_data = input_f.read()\n",
    "verses = input_data.split('\\n')\n",
    "print(len(verses))"
   ]
  },
  {
   "cell_type": "markdown",
   "metadata": {},
   "source": [
    "Here **skrutable**'s MeterIdentifier object is imported and instantiated."
   ]
  },
  {
   "cell_type": "code",
   "execution_count": 4,
   "metadata": {},
   "outputs": [],
   "source": [
    "from skrutable.meter_identification import MeterIdentifier\n",
    "MI = MeterIdentifier()"
   ]
  },
  {
   "cell_type": "markdown",
   "metadata": {},
   "source": [
    "And here the verses are fed one at a time to the MeterIdentifier. To acheive maximum speed while maintaining accuracy, we can take advantage of preexisting expert annotation. Those verses (generally samavṛtta) which are already marked with all pāda breaks (ab ';', bc '/',  cd ';') do not need to be resplit, so resplit_option='none' (i.e., a single identification step) suffices for them. On the other hand, those verses (generally anuṣṭubh) for which only the half-way point is marked (bc '/') must be resplit to find the exact location of the breaks (in case of e.g., jāti verses, or because some verses may be hypo- or hypermetric), but the correct resplit is generally not very far away, so resplit_option='resplit_lite', aided by the further config variable resplit_lite_keep_midpoint, is the right balance. (If no breaks at all had been marked, resplit_option='resplit_max' would give basically the same results, although it is much less computationally efficient.)"
   ]
  },
  {
   "cell_type": "code",
   "execution_count": 5,
   "metadata": {},
   "outputs": [
    {
     "name": "stderr",
     "output_type": "stream",
     "text": [
      "100%|██████████| 19354/19354 [00:02<00:00, 7387.01it/s]\n"
     ]
    }
   ],
   "source": [
    "with open('%s' % output_fn, 'w') as output_f:\n",
    "\n",
    "    starting_time = datetime.now().time()\n",
    "    for v in tqdm(verses):\n",
    "        v_content, v_label = v[:v.find('// ')+3], v[v.find('// ')+3:] # verse label is e.g. \"1.001.001\"\n",
    "        if v_content.count(\";\") == 2:\n",
    "            resplit_option = 'none'\n",
    "        else:\n",
    "            resplit_option = 'resplit_max'\n",
    "        result = MI.identify_meter( v_content, resplit_option=resplit_option, from_scheme='IAST')\n",
    "        # result = MI.identify_meter( v_label, resplit_option=resplit_option, from_scheme='IAST') # or this\n",
    "        # result = MI.identify_meter( v, resplit_option=resplit_option, from_scheme='IAST') # or this\n",
    "        output_f.write( v + '\\t' + result.meter_label + '\\n')\n",
    "        # output_f.write( v + '\\n\\n' + result.summarize() + '\\n') # or this\n",
    "\n",
    "    ending_time = datetime.now().time()\n",
    "    delta = datetime.combine(date.today(), ending_time) - datetime.combine(date.today(), starting_time)\n",
    "    duration_secs = delta.seconds + delta.microseconds / 1000000\n",
    "    output_f.write( \"samāptam: %d padyāni, %f kṣaṇāḥ\" % ( len(verses), duration_secs ) )"
   ]
  },
  {
   "cell_type": "markdown",
   "metadata": {},
   "source": [
    "## discussion"
   ]
  },
  {
   "cell_type": "markdown",
   "metadata": {},
   "source": [
    "On a MacBook Pro 2020 (2 GHz Quad-Core Intel Core i5 processor), the total time to ascertain the meter of all 19,354 verses depends on how many resplits are performed. The speed baseline, corresponding to performing no resplits and attempting (almost always unsuccessfully, because of the lack of explicit pāda breaks) to identify each verse one time as given (flat resplit_option='none') is under 3 seconds. Given the good quality of the input data, either of the two other resplit options (\"max\" or \"lite\") correct equally well for the missing pāda breaks. The \"max\" option tries all possible splits and clocks in at 93 seconds, whereas the \"lite\" tries only relevant splits and thereby finishes much faster, in only 6 seconds, with the same accuracy. Conditionally resplitting only when necessary (when v_content.count(\";\") == 2) provides another tiny improvement, bringing the best performance time to just about 5 seconds."
   ]
  }
 ],
 "metadata": {
  "kernelspec": {
   "display_name": "Python 3",
   "language": "python",
   "name": "python3"
  },
  "language_info": {
   "codemirror_mode": {
    "name": "ipython",
    "version": 3
   },
   "file_extension": ".py",
   "mimetype": "text/x-python",
   "name": "python",
   "nbconvert_exporter": "python",
   "pygments_lexer": "ipython3",
   "version": "3.8.5"
  }
 },
 "nbformat": 4,
 "nbformat_minor": 4
}
